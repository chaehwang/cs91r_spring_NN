{
 "cells": [
  {
   "cell_type": "markdown",
   "metadata": {},
   "source": [
    "# Backpropogation Derivation"
   ]
  },
  {
   "cell_type": "markdown",
   "metadata": {},
   "source": [
    "The notation, equations, and symbols were derived from https://theclevermachine.wordpress.com/2014/09/06/derivation-error-backpropagation-gradient-descent-for-neural-networks/. These equations were derived in our last session."
   ]
  },
  {
   "cell_type": "markdown",
   "metadata": {},
   "source": [
    "$z_j$: input to node $j$ for layer $l$\n",
    "\n",
    "$g_j$: activation function for node $j$ in layer $l$ (applied to $z_j$)\n",
    "\n",
    "$a_j = g_j(z_j)$: output/activation of node $j$ in layer $l$\n",
    "\n",
    "$w_{i,j}$: weights connecting node $i$ in layer $(l-1)$ to node $j$ in layer $l$\n",
    "\n",
    "$t_k$: target value for node $k$ in the output layer"
   ]
  },
  {
   "cell_type": "markdown",
   "metadata": {},
   "source": [
    "### Gradients for Output Layer Weights"
   ]
  },
  {
   "cell_type": "markdown",
   "metadata": {},
   "source": [
    "$\\delta_k: (a_k-t_k)g_k'(z_k)$\n",
    "\n",
    "$\\frac{\\partial{E}}{\\partial{w_{j,k}}}$: $\\delta_ka_j$"
   ]
  },
  {
   "cell_type": "markdown",
   "metadata": {},
   "source": [
    "This notation was really confusing so I had to break it down line by line. When I am looking at the output layer, then my $a_k$ is the output of the node of the output layer and $a_j$ is the output from my hidden layer. $t_k$ is my target variable and $g_k'(z_k) = a_k'$ the derivative of the output layer. The change variable is what I will use for gradient descent."
   ]
  },
  {
   "cell_type": "markdown",
   "metadata": {},
   "source": [
    "### Gradients for Hidden Layer Weights"
   ]
  },
  {
   "cell_type": "markdown",
   "metadata": {},
   "source": [
    "$\\delta_j = g_j'(z_j)\\sum_k^K \\delta_kw_{j,k}$"
   ]
  },
  {
   "cell_type": "markdown",
   "metadata": {},
   "source": [
    "The $j$ represents the hidden layer that the weight is originating from and $k$ represents the output layer, where the weight is pointing to. In the case of a 1 hidden layer model, $j$ is the hidden layer and $k$ is the output layer. You want to sum over all of the output nodes that this weight could point to because when you do backprop, all of these nodes are affected by a change in this weight. $\\delta_k$ is the delta for the kth node."
   ]
  },
  {
   "cell_type": "code",
   "execution_count": 22,
   "metadata": {
    "collapsed": false
   },
   "outputs": [],
   "source": [
    "class NN_backprop:\n",
    "    def __init__(self, n_input, n_hidden,n_output):\n",
    "        self.n_input = n_input + 1\n",
    "        self.n_hidden = n_hidden\n",
    "        self.n_output = n_output\n",
    "\n",
    "\n",
    "        self.a_input = np.ones(self.n_input)\n",
    "        self.a_hidden = np.ones(self.n_hidden)\n",
    "        self.a_output = np.ones(self.n_output)\n",
    "\n",
    "        self.w_input = np.random.rand(self.n_input, self.n_hidden)\n",
    "        self.w_output = np.random.rand(self.n_hidden, self.n_output)\n",
    "\n",
    "\n",
    "        # stores the gradients to update it\n",
    "        self.c_input = np.random.rand(self.n_input, self.n_hidden)\n",
    "        self.c_output = np.random.rand(self.n_hidden, self.n_output)\n",
    "    \n",
    "    def runNN (self, inputs):\n",
    "        self.a_input = inputs\n",
    "\n",
    "        \n",
    "        # basically doing sigmoid(w^1x+w^1_0) to find output for each hidden layer\n",
    "        for j in range(self.n_hidden):\n",
    "            self.a_hidden[j] = self.sigmoid(np.sum(np.dot(self.a_input,self.w_input[:j])))\n",
    "\n",
    "        # doing sigmoid(wx+w_0) using input from hidden layer to get final output layer\n",
    "        for k in range(self.n_output):\n",
    "            self.a_out[k] = self.sigmoid(np.sum(np.dot(self.a_hidden,self.w_output[:k])))\n",
    "\n",
    "        return self.a_output\n",
    "\n",
    "    def sigmoid(x):\n",
    "        return 1.0/(1.0 + np.exp(-x))\n",
    "    \n",
    "    def derivative_sigmoid(x):\n",
    "        return self.sigmoid(x)*(1-self.sigmoid(x))\n",
    "    \n",
    "    def backPropagate (self, targets, eta):\n",
    "    \n",
    "    # https://theclevermachine.wordpress.com/2014/09/06/\n",
    "    #derivation-error-backpropagation-gradient-descent-for-neural-networks/\n",
    "    \n",
    "        ### dE/dW_jk\n",
    "        output_deltas = np.zeros(n_output)\n",
    "        output_deltas = (self.ao-targets)*derivative_sigmoid(self.ao)\n",
    "        #output delta should be a k x 1 array and self.a_hidden is a 1 x n_hidden\n",
    "        # so c_output should be a n_output x n_hidden or something along these lines\n",
    "        \n",
    "        # these hodl the gradient changes for the weights that go from hidden to ouput\n",
    "        self.c_output  = output_deltas*self.a_hidden\n",
    "\n",
    "        #update the weights?\n",
    "        self.w_output -= eta*self.c_output\n",
    "        \n",
    "        hidden_deltas = np.sum(np.dot(output_deltas,self.wo))*derivative_sigmoid(self.ah)\n",
    "        # these hold the gradient changes for the weights that go from input to hidden\n",
    "        self.c_input = hidden_deltas*self.ai\n",
    "\n",
    "        #update the weights\n",
    "        self.w_input -= eta*self.c_input\n",
    "        \n",
    "       "
   ]
  },
  {
   "cell_type": "code",
   "execution_count": 25,
   "metadata": {
    "collapsed": false
   },
   "outputs": [],
   "source": [
    "pat = [\n",
    "      [[0,0], [1]],\n",
    "      [[0,1], [1]],\n",
    "      [[1,0], [1]],\n",
    "      [[1,1], [0]]\n",
    "  ]\n",
    "myNN = NN_backprop( 2, 2, 1)\n",
    "inputs = pat[0]\n",
    "targets = pat[1]\n",
    "myNN.runNN(pat)\n",
    "# myNN.backPropagate(targets, .1)"
   ]
  },
  {
   "cell_type": "code",
   "execution_count": null,
   "metadata": {
    "collapsed": true
   },
   "outputs": [],
   "source": []
  }
 ],
 "metadata": {
  "kernelspec": {
   "display_name": "Python [Root]",
   "language": "python",
   "name": "Python [Root]"
  },
  "language_info": {
   "codemirror_mode": {
    "name": "ipython",
    "version": 2
   },
   "file_extension": ".py",
   "mimetype": "text/x-python",
   "name": "python",
   "nbconvert_exporter": "python",
   "pygments_lexer": "ipython2",
   "version": "2.7.12"
  }
 },
 "nbformat": 4,
 "nbformat_minor": 0
}
