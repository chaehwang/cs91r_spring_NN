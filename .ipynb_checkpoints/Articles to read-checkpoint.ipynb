{
 "cells": [
  {
   "cell_type": "markdown",
   "metadata": {},
   "source": [
    "## Literature Options"
   ]
  },
  {
   "cell_type": "markdown",
   "metadata": {},
   "source": [
    "This details articles to read that both review LSTM/RNN and image captioning application that we can read in detail and try to replicate."
   ]
  },
  {
   "cell_type": "markdown",
   "metadata": {},
   "source": [
    "## 1\n",
    "https://arxiv.org/pdf/1506.00019.pdf\n",
    "\n",
    "Not necessarily an application article but seems like a good article to review and reference LSTM/RNN in greater detail"
   ]
  },
  {
   "cell_type": "markdown",
   "metadata": {},
   "source": [
    "## 2\n",
    "https://arxiv.org/pdf/1411.4389.pdf\n",
    "\n",
    "Looked relevant for LSTM specifically for image/video captioning which are the applications we were looking at\n",
    "\n",
    "https://github.com/jeffdonahue/voc-classification\n",
    "\n",
    "This is the github repo that can reproduce these results\n",
    "\n",
    "https://www.youtube.com/watch?v=w2iV8gt5cd4&feature=youtu.be\n",
    "This is the youtube video they actually caption"
   ]
  },
  {
   "cell_type": "markdown",
   "metadata": {},
   "source": [
    "## 3\n",
    "https://github.com/kjw0612/awesome-rnn\n",
    "\n",
    "Cool resource that goes into recurrent neural networks and also has a link specifically for image captioning articles\n",
    "\n",
    "https://github.com/kjw0612/awesome-rnn#image-captioning\n",
    "\n",
    "Good resource/bank of articles for image captioning to filter through"
   ]
  },
  {
   "cell_type": "code",
   "execution_count": null,
   "metadata": {
    "collapsed": true
   },
   "outputs": [],
   "source": []
  }
 ],
 "metadata": {
  "anaconda-cloud": {},
  "kernelspec": {
   "display_name": "Python [Root]",
   "language": "python",
   "name": "Python [Root]"
  },
  "language_info": {
   "codemirror_mode": {
    "name": "ipython",
    "version": 2
   },
   "file_extension": ".py",
   "mimetype": "text/x-python",
   "name": "python",
   "nbconvert_exporter": "python",
   "pygments_lexer": "ipython2",
   "version": "2.7.12"
  }
 },
 "nbformat": 4,
 "nbformat_minor": 0
}
